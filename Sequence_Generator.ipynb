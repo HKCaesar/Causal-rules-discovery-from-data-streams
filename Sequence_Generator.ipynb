{
 "cells": [
  {
   "cell_type": "code",
   "execution_count": 10,
   "metadata": {
    "collapsed": true
   },
   "outputs": [],
   "source": [
    "import numpy\n",
    "import math\n",
    "import csv\n",
    "import time\n",
    "import matplotlib.pyplot as plt\n",
    "import ast\n",
    "from scipy import stats\n",
    "import pandas as pd"
   ]
  },
  {
   "cell_type": "code",
   "execution_count": 11,
   "metadata": {
    "collapsed": true
   },
   "outputs": [],
   "source": [
    "def generateSequence(sequence, domain, value, operator, probability, fr, to):\n",
    "    if operator == 'eq':\n",
    "        prob = [(1.0 - probability) / (len(domain) - 1) for i in domain]\n",
    "        prob[domain.index(value)] = probability\n",
    "        seq = list(sequence)\n",
    "        for i in range(fr, to):\n",
    "            seq[i] = numpy.random.choice(domain, p = prob)\n",
    "\n",
    "        return seq"
   ]
  },
  {
   "cell_type": "code",
   "execution_count": 13,
   "metadata": {
    "collapsed": true
   },
   "outputs": [],
   "source": [
    "def plotSequence(axarr, seq, domain, attrName, curr_state):\n",
    "    N = 1\n",
    "    colors = [numpy.random.rand(3,1) for i in domain]\n",
    "    ind = numpy.arange(N)    # the x locations for the groups\n",
    "\n",
    "    p = [0 for i in domain]\n",
    "    for i in range(0, len(seq)):\n",
    "        for j in range(0, len(domain)):\n",
    "            if seq[i] == domain[j]:\n",
    "                p[j] = axarr.barh(ind, 1, left=i, color=colors[j] )\n",
    "\n",
    "    axarr.set_xlabel('State nr')\n",
    "    axarr.set_ylabel(str(attrName))\n",
    "    axarr.set_yticks([])\n",
    "    axarr.set_yticklabels(['Attr_1'])\n",
    "\n",
    "    axarr.set_xticklabels(numpy.arange(-curr_state, len(seq)-curr_state+1, 10),minor=False)\n",
    "    axarr.set_xticks(numpy.arange(0, len(seq)+1, 10),minor=False)\n",
    "    axarr.legend((p), (domain))"
   ]
  },
  {
   "cell_type": "code",
   "execution_count": 14,
   "metadata": {
    "collapsed": true
   },
   "outputs": [],
   "source": [
    "def saveToCsv(listOfConfigs, sequences):\n",
    "    timestr = time.strftime(\"%Y_%m_%d-%H:%M:%S\")\n",
    "    with open('sequence_'+timestr+'.csv','wb') as csv_file:\n",
    "        writer = csv.writer(csv_file, delimiter=',')\n",
    "        writer.writerow([config['attr_name'] for config in listOfConfigs])\n",
    "        for i in range(len(sequences[0])):\n",
    "            writer.writerow([seq[i] for seq in sequences])"
   ]
  },
  {
   "cell_type": "code",
   "execution_count": 131,
   "metadata": {},
   "outputs": [],
   "source": [
    "def seq_stats(config, seq):\n",
    "    config_values = config['value']\n",
    "    domain = ast.literal_eval(config_values[0]['domain'])\n",
    "    \n",
    "    for config_val in config_values:\n",
    "        value = ast.literal_eval(config_val['value'])\n",
    "        probability = float(config_val['probability'])\n",
    "        \n",
    "        fr = abs(int(float(config_val['from'])))\n",
    "        if config_val['to'] != '0':\n",
    "            to = abs(int(float(config_val['to'])))\n",
    "        else:\n",
    "            to = 0\n",
    "\n",
    "        counter = seq[curr_state-fr:curr_state-to].count(value)\n",
    "        \n",
    "        print \"Value:\", value\n",
    "        print \"< -\",fr, \",-\",to,\" >\"\n",
    "        print \"Should be about: \", len(seq[curr_state-fr:curr_state-to])*probability, \" (\", probability*100, \"%)\"\n",
    "        print \"Is: \", counter, \" (\", (counter/(len(seq[curr_state-fr:curr_state-to])*1.0))*100.0, \"%)\"\n",
    "        print \n",
    "        \n",
    "    "
   ]
  },
  {
   "cell_type": "markdown",
   "metadata": {},
   "source": [
    "Parameters"
   ]
  },
  {
   "cell_type": "code",
   "execution_count": 132,
   "metadata": {
    "collapsed": true
   },
   "outputs": [],
   "source": [
    "plt.rcParams['figure.figsize'] = 18, 6\n",
    "\n",
    "past_states = 1.5\n",
    "future_states = 1.5\n",
    "\n",
    "plot = True\n",
    "save = False\n",
    "random = True"
   ]
  },
  {
   "cell_type": "markdown",
   "metadata": {},
   "source": [
    "Get configurations from config file and group them by attribute name."
   ]
  },
  {
   "cell_type": "code",
   "execution_count": 133,
   "metadata": {
    "collapsed": true
   },
   "outputs": [],
   "source": [
    "with open(\"config\") as f:\n",
    "    lines = f.readlines()\n",
    "\n",
    "config_list = []\n",
    "for line in lines:\n",
    "    line = line.replace(\" \", \"\").replace(\"\\n\", \"\")\n",
    "    config = {}\n",
    "    for elem in line.split(';'):\n",
    "        elem = elem.split('=')\n",
    "        config[elem[0]] = elem[1]\n",
    "    config_list.append(config)\n",
    "\n",
    "grouped_config_list = []\n",
    "for config in config_list:\n",
    "    key = config['attr'].replace(\"'\",\"\")\n",
    "    if not any(key in d['attr_name'] for d in grouped_config_list):\n",
    "        attr_dict = {}\n",
    "        values_list = []\n",
    "        values_list.append(config)\n",
    "        attr_dict['attr_name'] = key\n",
    "        attr_dict['value'] = values_list\n",
    "        grouped_config_list.append(attr_dict)\n",
    "    else:\n",
    "        attr_dict = [d for d in grouped_config_list if d['attr_name'] == key][0]\n",
    "        attr_dict['value'].append(config)\n",
    "\n",
    "# for conf in grouped_config_list:\n",
    "#     for key, value in conf.items():\n",
    "#         print key,\": \", value if key == 'attr_name' else ' '\n",
    "#         if key != 'attr_name':\n",
    "#             for v in value:\n",
    "#                 print \"\\t\", v\n",
    "#     print"
   ]
  },
  {
   "cell_type": "code",
   "execution_count": 134,
   "metadata": {},
   "outputs": [
    {
     "data": {
      "image/png": "[encoded data removed]",
      "text/plain": [
       "<matplotlib.figure.Figure at 0x7fcbb819bad0>"
      ]
     },
     "metadata": {},
     "output_type": "display_data"
    },
    {
     "name": "stdout",
     "output_type": "stream",
     "text": [
      "Value: a1\n",
      "< - 100 ,- 50  >\n",
      "Should be about:  45.0  ( 90.0 %)\n",
      "Is:  45  ( 90.0 %)\n",
      "\n",
      "Value: b1\n",
      "< - 30 ,- 0  >\n",
      "Should be about:  24.0  ( 80.0 %)\n",
      "Is:  21  ( 70.0 %)\n",
      "\n",
      "Value: b1\n",
      "< - 50 ,- 0  >\n",
      "Should be about:  45.0  ( 90.0 %)\n",
      "Is:  47  ( 94.0 %)\n",
      "\n"
     ]
    }
   ],
   "source": [
    "curr_state = int(max([abs(int(float(config_list[i]['from']))) for i in range(len(config_list)) if 'from' in config_list[i]])*past_states)\n",
    "last_state = int(curr_state*future_states)\n",
    "seqs = []\n",
    "number_of_configs = len(grouped_config_list)\n",
    "f, axarr = plt.subplots(number_of_configs)\n",
    "\n",
    "for counter, config in enumerate(grouped_config_list):\n",
    "    config_values = config['value']\n",
    "    init_value = ast.literal_eval(config_values[0]['domain'])[0]\n",
    "    domain = ast.literal_eval(config_values[0]['domain'])\n",
    "    operator = 'eq'\n",
    "    \n",
    "    if random:\n",
    "        seq = [numpy.random.choice(ast.literal_eval(config_values[0]['domain'])) for k in range(0, last_state)]\n",
    "    else:\n",
    "        seq = [init_value for k in range(0, last_state)]\n",
    "    \n",
    "    for config_val in config_values:\n",
    "        value = ast.literal_eval(config_val['value'])\n",
    "        probability = float(config_val['probability'])\n",
    "        fr = curr_state - curr_state\n",
    "        to = curr_state - last_state\n",
    "        \n",
    "        if 'from' in config_val:\n",
    "            fr = abs(int(float(config_val['from'])))\n",
    "            if config_val['to'] != '0':\n",
    "                to = abs(int(float(config_val['to'])))\n",
    "            else:\n",
    "                to = 0\n",
    "\n",
    "        seq = generateSequence(seq, domain, value, operator, probability, curr_state-fr, curr_state-to)\n",
    "\n",
    "        if(plot):\n",
    "            plotSequence(axarr[counter], seq, domain, config['attr_name'], curr_state)\n",
    "    \n",
    "    seqs.append(seq)\n",
    "\n",
    "if plot:\n",
    "    plt.show()\n",
    "\n",
    "if save:\n",
    "    saveToCsv(grouped_config_list, seqs)\n",
    "\n",
    "for i in range(0,len(seqs)-1):\n",
    "    seq_stats(grouped_config_list[i], seqs[i])"
   ]
  },
  {
   "cell_type": "code",
   "execution_count": null,
   "metadata": {
    "collapsed": true
   },
   "outputs": [],
   "source": []
  },
  {
   "cell_type": "code",
   "execution_count": null,
   "metadata": {
    "collapsed": true
   },
   "outputs": [],
   "source": []
  },
  {
   "cell_type": "code",
   "execution_count": null,
   "metadata": {
    "collapsed": true
   },
   "outputs": [],
   "source": []
  }
 ],
 "metadata": {
  "kernelspec": {
   "display_name": "Python 2",
   "language": "python",
   "name": "python2"
  },
  "language_info": {
   "codemirror_mode": {
    "name": "ipython",
    "version": 2
   },
   "file_extension": ".py",
   "mimetype": "text/x-python",
   "name": "python",
   "nbconvert_exporter": "python",
   "pygments_lexer": "ipython2",
   "version": "2.7.12"
  }
 },
 "nbformat": 4,
 "nbformat_minor": 2
}
